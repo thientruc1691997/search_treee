{
 "cells": [
  {
   "cell_type": "markdown",
   "id": "cfff8961",
   "metadata": {},
   "source": [
    "A ternary search tree (TST) is a type of trie-based data structure optimized for storing and retrieving strings efficiently, especially when supporting prefix-based operations like autocomplete.\n",
    "\n",
    "It supports the following operations:\n",
    "\n",
    "* insert a string into the TST;\n",
    "* search for a string in the TST;\n",
    "* return the number of stored strings;\n",
    "* print all strings stored in the TST in lexicographic order;\n",
    "* find all strings that start with a given prefix (autocomplete feature)."
   ]
  },
  {
   "cell_type": "markdown",
   "id": "8c957b45",
   "metadata": {},
   "source": [
    "# Implementation"
   ]
  },
  {
   "cell_type": "markdown",
   "id": "51e90849",
   "metadata": {},
   "source": [
    "We implement two classes, one to represent a node of a ternary search tree, the second to represent the tree.  Only the latter will be used by the user of the data structure, the `TSTNode` class is only for intermal usage."
   ]
  },
  {
   "cell_type": "code",
   "execution_count": 142,
   "id": "aa93d226",
   "metadata": {},
   "outputs": [],
   "source": [
    "class TSTreeNode:\n",
    "    def __init__(self, char):\n",
    "        self.char = char\n",
    "        self.is_end = False\n",
    "        self.left = None\n",
    "        self.middle = None\n",
    "        self.right = None\n",
    "\n",
    "    def _insert(self, word, index=0):\n",
    "        char = word[index]\n",
    "\n",
    "        if char < self.char:\n",
    "            if self.left is None:\n",
    "                self.left = TSTreeNode(char)\n",
    "            self.left._insert(word, index)\n",
    "\n",
    "        elif char > self.char:\n",
    "            if self.right is None:\n",
    "                self.right = TSTreeNode(char)\n",
    "            self.right._insert(word, index)\n",
    "\n",
    "        else:  # char == self.char\n",
    "            if index + 1 == len(word):\n",
    "                self.is_end = True\n",
    "            else:\n",
    "                if self.middle is None:\n",
    "                    self.middle = TSTreeNode(word[index + 1])\n",
    "                self.middle._insert(word, index + 1)\n",
    "\n",
    "    def _search(self, word, index=0):\n",
    "        char = word[index]\n",
    "\n",
    "        if char < self.char:\n",
    "            return self.left is not None and self.left._search(word, index)\n",
    "\n",
    "        elif char > self.char:\n",
    "            return self.right is not None and self.right._search(word, index)\n",
    "\n",
    "        else:\n",
    "            if index == len(word) - 1:\n",
    "                return self.is_end\n",
    "            return self.middle is not None and self.middle._search(word, index + 1)\n",
    "\n",
    "    def _all_words(self, prefix=''):\n",
    "        words = []\n",
    "        if self.left:\n",
    "            words.extend(self.left._all_words(prefix))\n",
    "        if self.is_end:\n",
    "            words.append(prefix + self.char)\n",
    "        if self.middle:\n",
    "            words.extend(self.middle._all_words(prefix + self.char))\n",
    "        if self.right:\n",
    "            words.extend(self.right._all_words(prefix))\n",
    "        return words\n",
    "\n",
    "    def _prefix_search(self, prefix, index=0):\n",
    "        char = prefix[index]\n",
    "        if char < self.char:\n",
    "            return self.left._prefix_search(prefix, index) if self.left else []\n",
    "        elif char > self.char:\n",
    "            return self.right._prefix_search(prefix, index) if self.right else []\n",
    "        else:\n",
    "            if index == len(prefix) - 1:\n",
    "                result = []\n",
    "                if self.is_end:\n",
    "                    result.append(prefix)\n",
    "                if self.middle:\n",
    "                    result += self.middle._all_words(prefix)\n",
    "                return result\n",
    "            if self.middle:\n",
    "                return self.middle._prefix_search(prefix, index + 1)\n",
    "            return []\n",
    "\n",
    "    def _to_string(self, indent=''):\n",
    "        repr_str = indent + repr(self) + f\" (end={self.is_end})\"\n",
    "        if self.left is not None:\n",
    "            repr_str += '\\n' + self.left._to_string(indent + '  ')\n",
    "        if self.middle is not None:\n",
    "            repr_str += '\\n' + self.middle._to_string(indent + '  ')\n",
    "        if self.right is not None:\n",
    "            repr_str += '\\n' + self.right._to_string(indent + '  ')\n",
    "        return repr_str\n",
    "\n",
    "    def __repr__(self):\n",
    "        return f\"'{self.char}'\"\n",
    "    \n",
    "    def _print(self, level=0, branch=\"root\"):\n",
    "        indent = \"    \" * level\n",
    "        marker = f\"{branch}: \"\n",
    "        result = f\"{indent}{marker}'{self.char}' (end={self.is_end})\\n\"\n",
    "        if self.left:\n",
    "            result += self.left._print(level + 1, \"left\")\n",
    "        if self.middle:\n",
    "            result += self.middle._print(level + 1, \"mid\")\n",
    "        if self.right:\n",
    "            result += self.right._print(level + 1, \"right\")\n",
    "        return result\n",
    "\n"
   ]
  },
  {
   "cell_type": "code",
   "execution_count": 143,
   "id": "c5eb7004",
   "metadata": {},
   "outputs": [],
   "source": [
    "class TSTree:\n",
    "    def __init__(self):\n",
    "        self.root = None\n",
    "\n",
    "    def insert(self, word):\n",
    "        if not word:\n",
    "            return\n",
    "        if self.root is None:\n",
    "            self.root = TSTreeNode(word[0])\n",
    "        self.root._insert(word)\n",
    "\n",
    "    def search(self, word):\n",
    "        if not word or self.root is None:\n",
    "            return False\n",
    "        return self.root._search(word)\n",
    "\n",
    "    def all_strings(self):\n",
    "        if self.root is None:\n",
    "            return []\n",
    "        return self.root._all_words()\n",
    "\n",
    "    def starts_with(self, prefix):\n",
    "        if not prefix or self.root is None:\n",
    "            return []\n",
    "        return self.root._prefix_search(prefix)\n",
    "\n",
    "    def __len__(self):\n",
    "        return len(self.all_strings())\n",
    "\n",
    "    def __repr__(self):\n",
    "        if self.root is None:\n",
    "            return 'empty tree'\n",
    "        else:\n",
    "            return self.root._print()\n",
    "\n"
   ]
  },
  {
   "cell_type": "markdown",
   "id": "4361263d",
   "metadata": {},
   "source": [
    "# Example usage"
   ]
  },
  {
   "cell_type": "markdown",
   "id": "225760ad",
   "metadata": {},
   "source": [
    "Create an empty Ternary Search Tree"
   ]
  },
  {
   "cell_type": "code",
   "execution_count": 144,
   "id": "b7fb8b3c",
   "metadata": {},
   "outputs": [],
   "source": [
    "tst = TSTree()"
   ]
  },
  {
   "cell_type": "markdown",
   "id": "c462f14b",
   "metadata": {},
   "source": [
    "Display it in íts current state"
   ]
  },
  {
   "cell_type": "code",
   "execution_count": 145,
   "id": "64bde672",
   "metadata": {},
   "outputs": [
    {
     "name": "stdout",
     "output_type": "stream",
     "text": [
      "empty tree\n"
     ]
    }
   ],
   "source": [
    "print(tst)"
   ]
  },
  {
   "cell_type": "markdown",
   "id": "07a9fe7c",
   "metadata": {},
   "source": [
    "Verify that it has no strings stored"
   ]
  },
  {
   "cell_type": "code",
   "execution_count": 146,
   "id": "efce46bd",
   "metadata": {},
   "outputs": [
    {
     "data": {
      "text/plain": [
       "0"
      ]
     },
     "execution_count": 146,
     "metadata": {},
     "output_type": "execute_result"
    }
   ],
   "source": [
    "len(tst)"
   ]
  },
  {
   "cell_type": "markdown",
   "id": "e82018b6",
   "metadata": {},
   "source": [
    "Insert the string 'abc'"
   ]
  },
  {
   "cell_type": "code",
   "execution_count": 147,
   "id": "957e38fe",
   "metadata": {},
   "outputs": [],
   "source": [
    "tst.insert('abc')"
   ]
  },
  {
   "cell_type": "markdown",
   "id": "6be00043",
   "metadata": {},
   "source": [
    "Verify that the string now encodes a single string"
   ]
  },
  {
   "cell_type": "code",
   "execution_count": 148,
   "id": "7d95d868",
   "metadata": {},
   "outputs": [
    {
     "data": {
      "text/plain": [
       "1"
      ]
     },
     "execution_count": 148,
     "metadata": {},
     "output_type": "execute_result"
    }
   ],
   "source": [
    "len(tst)  "
   ]
  },
  {
   "cell_type": "markdown",
   "id": "4d8ec054",
   "metadata": {},
   "source": [
    "Insert a second string"
   ]
  },
  {
   "cell_type": "code",
   "execution_count": 149,
   "id": "2d52346f",
   "metadata": {},
   "outputs": [],
   "source": [
    "tst.insert('aqc')"
   ]
  },
  {
   "cell_type": "markdown",
   "id": "7852c490",
   "metadata": {},
   "source": [
    "Now the string has two elements"
   ]
  },
  {
   "cell_type": "code",
   "execution_count": 150,
   "id": "42124fda",
   "metadata": {},
   "outputs": [
    {
     "name": "stdout",
     "output_type": "stream",
     "text": [
      "root: 'a' (end=False)\n",
      "    mid: 'b' (end=False)\n",
      "        mid: 'c' (end=True)\n",
      "        right: 'q' (end=False)\n",
      "            mid: 'c' (end=True)\n",
      "\n"
     ]
    }
   ],
   "source": [
    "print(tst)"
   ]
  },
  {
   "cell_type": "markdown",
   "id": "5078187f",
   "metadata": {},
   "source": [
    "Add a third string"
   ]
  },
  {
   "cell_type": "code",
   "execution_count": 151,
   "id": "6a456a0c",
   "metadata": {},
   "outputs": [],
   "source": [
    "tst.insert('aaq')"
   ]
  },
  {
   "cell_type": "code",
   "execution_count": 152,
   "id": "2a2b20d3",
   "metadata": {},
   "outputs": [
    {
     "name": "stdout",
     "output_type": "stream",
     "text": [
      "root: 'a' (end=False)\n",
      "    mid: 'b' (end=False)\n",
      "        left: 'a' (end=False)\n",
      "            mid: 'q' (end=True)\n",
      "        mid: 'c' (end=True)\n",
      "        right: 'q' (end=False)\n",
      "            mid: 'c' (end=True)\n",
      "\n"
     ]
    }
   ],
   "source": [
    "print(tst)"
   ]
  },
  {
   "cell_type": "markdown",
   "id": "a71c5ffe",
   "metadata": {},
   "source": [
    "Search for a string that is inserted into the ternary tree"
   ]
  },
  {
   "cell_type": "code",
   "execution_count": 154,
   "id": "ba9ded26",
   "metadata": {},
   "outputs": [
    {
     "data": {
      "text/plain": [
       "True"
      ]
     },
     "execution_count": 154,
     "metadata": {},
     "output_type": "execute_result"
    }
   ],
   "source": [
    "tst.search('aaq')"
   ]
  },
  {
   "cell_type": "markdown",
   "id": "cf215a62",
   "metadata": {},
   "source": [
    "List all strings in ternary search tree"
   ]
  },
  {
   "cell_type": "code",
   "execution_count": 159,
   "id": "2395519e",
   "metadata": {},
   "outputs": [
    {
     "data": {
      "text/plain": [
       "['aaq', 'abc', 'aqc']"
      ]
     },
     "execution_count": 159,
     "metadata": {},
     "output_type": "execute_result"
    }
   ],
   "source": [
    "tst.all_strings()"
   ]
  },
  {
   "cell_type": "markdown",
   "id": "9cdf50c9",
   "metadata": {},
   "source": [
    "Search for a prefix 'aa'"
   ]
  },
  {
   "cell_type": "code",
   "execution_count": 161,
   "id": "b0c2f724",
   "metadata": {},
   "outputs": [
    {
     "data": {
      "text/plain": [
       "['aaq']"
      ]
     },
     "execution_count": 161,
     "metadata": {},
     "output_type": "execute_result"
    }
   ],
   "source": [
    "tst.starts_with('aa')"
   ]
  },
  {
   "cell_type": "markdown",
   "id": "ecbfc062",
   "metadata": {},
   "source": [
    "# Testing"
   ]
  },
  {
   "cell_type": "markdown",
   "id": "2aaca640",
   "metadata": {},
   "source": [
    "Create a new TSTree and insert some new words"
   ]
  },
  {
   "cell_type": "code",
   "execution_count": 162,
   "id": "2b0152cf",
   "metadata": {},
   "outputs": [],
   "source": [
    "tst1 = TSTree()\n",
    "with open('/Users/nguyentruc/Desktop/UHasselt/Concept of Data Science/ternary-search-tree/data/insert_words.txt') as file:\n",
    "    words = [\n",
    "        line.strip() for line in file \n",
    "    ]\n",
    "for word in words:\n",
    "    tst1.insert(word)\n",
    "\n",
    "unique_words = set(words)\n"
   ]
  },
  {
   "cell_type": "markdown",
   "id": "46fda61c",
   "metadata": {},
   "source": [
    "Verify the length of the data structure"
   ]
  },
  {
   "cell_type": "code",
   "execution_count": null,
   "id": "24f9776a",
   "metadata": {},
   "outputs": [],
   "source": [
    "assert len(tst1) == len(unique_words),\\\n",
    "    f'{len(tst1)} in tree, expected {len(unique_words)}'"
   ]
  },
  {
   "cell_type": "markdown",
   "id": "da67c922",
   "metadata": {},
   "source": [
    "Verify that all words that were inserted can be found"
   ]
  },
  {
   "cell_type": "code",
   "execution_count": null,
   "id": "24afe859",
   "metadata": {},
   "outputs": [],
   "source": [
    "for word in unique_words:\n",
    "    assert tst1.search(word), f\"Word '{word}' should be found in the tree.\""
   ]
  },
  {
   "cell_type": "markdown",
   "id": "aec9eb48",
   "metadata": {},
   "source": [
    "Check that words in the file 'not_insert_words.txt' can not be found in the tree"
   ]
  },
  {
   "cell_type": "code",
   "execution_count": 174,
   "id": "da952147",
   "metadata": {},
   "outputs": [],
   "source": [
    "with open('/Users/nguyentruc/Desktop/UHasselt/Concept of Data Science/ternary-search-tree/data/not_insert_words.txt') as file:\n",
    "    for line in file:\n",
    "        word = line.strip()\n",
    "        assert not tst1.search(word), f\"Word '{word}' should not be found in the tree.\""
   ]
  },
  {
   "cell_type": "markdown",
   "id": "c4a28af4",
   "metadata": {},
   "source": [
    "Check that all strings are returned"
   ]
  },
  {
   "cell_type": "code",
   "execution_count": 234,
   "id": "38e8832c",
   "metadata": {},
   "outputs": [],
   "source": [
    "all_strings = tst1.all_strings()\n",
    "assert len(all_strings) == len(unique_words), \\\n",
    "    f\"Expected {len(unique_words)} unique words, but got {len(all_strings)}.\"\n",
    "for word in all_strings:\n",
    "    assert word in unique_words, f\"Word '{word}' is not in the set of unique words.\""
   ]
  },
  {
   "cell_type": "markdown",
   "id": "9e2a1bfc",
   "metadata": {},
   "source": [
    "# Performance"
   ]
  },
  {
   "cell_type": "markdown",
   "id": "cf0118ce",
   "metadata": {},
   "source": [
    "To assess the performance with large dataset, we use file 'corncob_lowercase.txt' (58110 words, all lower case)"
   ]
  },
  {
   "cell_type": "code",
   "execution_count": 176,
   "id": "77958d76",
   "metadata": {},
   "outputs": [],
   "source": [
    "with open('/Users/nguyentruc/Desktop/UHasselt/Concept of Data Science/ternary-search-tree/data/corncob_lowercase.txt') as file:\n",
    "    words = [line.strip() for line in file]\n",
    "    "
   ]
  },
  {
   "cell_type": "code",
   "execution_count": 177,
   "id": "813433f7",
   "metadata": {},
   "outputs": [
    {
     "data": {
      "text/plain": [
       "58110"
      ]
     },
     "execution_count": 177,
     "metadata": {},
     "output_type": "execute_result"
    }
   ],
   "source": [
    "len(words)"
   ]
  },
  {
   "cell_type": "markdown",
   "id": "67a840eb",
   "metadata": {},
   "source": [
    "The words are alphabetically ordered"
   ]
  },
  {
   "cell_type": "code",
   "execution_count": 178,
   "id": "eb6a7232",
   "metadata": {},
   "outputs": [
    {
     "data": {
      "text/plain": [
       "['ardvark',\n",
       " 'aardwolf',\n",
       " 'aaron',\n",
       " 'aback',\n",
       " 'abacus',\n",
       " 'abaft',\n",
       " 'abalone',\n",
       " 'abandon',\n",
       " 'abandoned',\n",
       " 'abandonmaent']"
      ]
     },
     "execution_count": 178,
     "metadata": {},
     "output_type": "execute_result"
    }
   ],
   "source": [
    "words[:10]"
   ]
  },
  {
   "cell_type": "code",
   "execution_count": 179,
   "id": "0e1d783e",
   "metadata": {},
   "outputs": [],
   "source": [
    "import random\n",
    "import time"
   ]
  },
  {
   "cell_type": "code",
   "execution_count": 180,
   "id": "bca8a18c",
   "metadata": {},
   "outputs": [],
   "source": [
    "sizes = [100, 500, 1_000, 5_000, 10_000, 20_000, 30_000, 40_000, 50_000]"
   ]
  },
  {
   "cell_type": "code",
   "execution_count": 182,
   "id": "6b7ead39",
   "metadata": {},
   "outputs": [],
   "source": [
    "samples = [\n",
    "    random.sample(words, k=size) for size in sizes\n",
    "]"
   ]
  },
  {
   "cell_type": "markdown",
   "id": "b8f973d3",
   "metadata": {},
   "source": [
    "Now we will time how long it takes to **insert words** into a TSTree of 9 sizes."
   ]
  },
  {
   "cell_type": "code",
   "execution_count": 183,
   "id": "1e1dc5ab",
   "metadata": {},
   "outputs": [
    {
     "data": {
      "text/plain": [
       "{100: 0.5973,\n",
       " 500: 0.7449,\n",
       " 1000: 0.9042,\n",
       " 5000: 0.7009,\n",
       " 10000: 0.788,\n",
       " 20000: 0.8285,\n",
       " 30000: 1.0735,\n",
       " 40000: 0.8063,\n",
       " 50000: 0.6989}"
      ]
     },
     "execution_count": 183,
     "metadata": {},
     "output_type": "execute_result"
    }
   ],
   "source": [
    "nr_runs = 10\n",
    "times = {}\n",
    "insert_sample = random.sample(words, k=20)\n",
    "for sample in samples:\n",
    "    tstree = TSTree()\n",
    "    for word in sample:\n",
    "        tstree.insert(word)\n",
    "    times[len(sample)] = 0.0\n",
    "    for _ in range(nr_runs):\n",
    "        start_time = time.time_ns()\n",
    "        for word in insert_sample:\n",
    "            tstree.insert(word)\n",
    "        end_time = time.time_ns()\n",
    "        times[len(sample)] += end_time - start_time\n",
    "    times[len(sample)] /= nr_runs*1_000_000.0\n",
    "times"
   ]
  },
  {
   "cell_type": "code",
   "execution_count": 184,
   "id": "927570b6",
   "metadata": {},
   "outputs": [
    {
     "data": {
      "image/png": "[encoded data removed]",
      "text/plain": [
       "<Figure size 640x480 with 1 Axes>"
      ]
     },
     "metadata": {},
     "output_type": "display_data"
    }
   ],
   "source": [
    "import matplotlib.pyplot as plt\n",
    "plt.plot(times.keys(), times.values());"
   ]
  },
  {
   "cell_type": "markdown",
   "id": "b64dc851",
   "metadata": {},
   "source": [
    "We do the same for **searching words** in TSTree."
   ]
  },
  {
   "cell_type": "code",
   "execution_count": 185,
   "id": "bcbb1dd4",
   "metadata": {},
   "outputs": [
    {
     "data": {
      "text/plain": [
       "{100: 0.3954,\n",
       " 500: 0.3703,\n",
       " 1000: 0.4778,\n",
       " 5000: 0.4884,\n",
       " 10000: 0.6508,\n",
       " 20000: 0.6282,\n",
       " 30000: 0.6786,\n",
       " 40000: 0.6665,\n",
       " 50000: 0.601}"
      ]
     },
     "execution_count": 185,
     "metadata": {},
     "output_type": "execute_result"
    }
   ],
   "source": [
    "nr_runs = 10\n",
    "times = {}\n",
    "search_sample = random.sample(words, k=20)\n",
    "for sample in samples:\n",
    "    tstree = TSTree()\n",
    "    for word in sample:\n",
    "        tstree.insert(word)\n",
    "    times[len(sample)] = 0.0\n",
    "    for _ in range(nr_runs):\n",
    "        start_time = time.time_ns()\n",
    "        for word in search_sample:\n",
    "            tstree.search(word)\n",
    "        end_time = time.time_ns()\n",
    "        times[len(sample)] += end_time - start_time\n",
    "    times[len(sample)] /= nr_runs*1_000_000.0\n",
    "times"
   ]
  },
  {
   "cell_type": "code",
   "execution_count": 187,
   "id": "7e436e0c",
   "metadata": {},
   "outputs": [
    {
     "data": {
      "image/png": "[encoded data removed]",
      "text/plain": [
       "<Figure size 640x480 with 1 Axes>"
      ]
     },
     "metadata": {},
     "output_type": "display_data"
    }
   ],
   "source": [
    "plt.plot(times.keys(), times.values());"
   ]
  },
  {
   "cell_type": "code",
   "execution_count": 188,
   "id": "c2605664",
   "metadata": {},
   "outputs": [
    {
     "data": {
      "text/plain": [
       "{100: 0.5774,\n",
       " 500: 1.4499,\n",
       " 1000: 0.5999,\n",
       " 5000: 0.6401,\n",
       " 10000: 0.7359,\n",
       " 20000: 0.7427,\n",
       " 30000: 0.7958,\n",
       " 40000: 0.9789,\n",
       " 50000: 0.7896}"
      ]
     },
     "execution_count": 188,
     "metadata": {},
     "output_type": "execute_result"
    }
   ],
   "source": [
    "nr_runs = 10\n",
    "times = {}\n",
    "for sample in samples:\n",
    "    tstree = TSTree()\n",
    "    for word in sample:\n",
    "        tstree.insert(word)\n",
    "    times[len(sample)] = 0.0\n",
    "    for _ in range(nr_runs):\n",
    "        search_sample = random.sample(sample, k=20)\n",
    "        start_time = time.time_ns()\n",
    "        for word in search_sample:\n",
    "            tstree.search(word)\n",
    "        end_time = time.time_ns()\n",
    "        times[len(sample)] += end_time - start_time\n",
    "    times[len(sample)] /= nr_runs*1_000_000.0\n",
    "times"
   ]
  },
  {
   "cell_type": "code",
   "execution_count": 189,
   "id": "c0b989d3",
   "metadata": {},
   "outputs": [
    {
     "data": {
      "image/png": "[encoded data removed]",
      "text/plain": [
       "<Figure size 640x480 with 1 Axes>"
      ]
     },
     "metadata": {},
     "output_type": "display_data"
    }
   ],
   "source": [
    "plt.plot(times.keys(), times.values());"
   ]
  },
  {
   "cell_type": "markdown",
   "id": "0a8bc7c9",
   "metadata": {},
   "source": [
    "# Comparision with SET"
   ]
  },
  {
   "cell_type": "code",
   "execution_count": 190,
   "id": "9c7a63fe",
   "metadata": {},
   "outputs": [],
   "source": [
    "with open('/Users/nguyentruc/Desktop/UHasselt/Concept of Data Science/ternary-search-tree/data/corncob_lowercase.txt') as file:\n",
    "    words = [line.strip() for line in file]\n",
    "random.shuffle(words)"
   ]
  },
  {
   "cell_type": "code",
   "execution_count": 191,
   "id": "6a3d236b",
   "metadata": {},
   "outputs": [],
   "source": [
    "hold_out_sample = words[-100:]\n",
    "insert_sample = words[:-100]"
   ]
  },
  {
   "cell_type": "code",
   "execution_count": 192,
   "id": "247308a4",
   "metadata": {},
   "outputs": [
    {
     "name": "stdout",
     "output_type": "stream",
     "text": [
      "43.1 ms ± 17.1 ms per loop (mean ± std. dev. of 7 runs, 10 loops each)\n"
     ]
    }
   ],
   "source": [
    "%%timeit\n",
    "word_set = set()\n",
    "for word in insert_sample:\n",
    "    word_set.add(word)"
   ]
  },
  {
   "cell_type": "code",
   "execution_count": 194,
   "id": "b20e86d2",
   "metadata": {},
   "outputs": [
    {
     "name": "stdout",
     "output_type": "stream",
     "text": [
      "2.46 s ± 106 ms per loop (mean ± std. dev. of 7 runs, 1 loop each)\n"
     ]
    }
   ],
   "source": [
    "%%timeit\n",
    "word_tstree = TSTree()\n",
    "for word in insert_sample:\n",
    "    word_tstree.insert(word)"
   ]
  },
  {
   "cell_type": "code",
   "execution_count": 195,
   "id": "dd46b379",
   "metadata": {},
   "outputs": [],
   "source": [
    "word_set = set()\n",
    "for word in insert_sample:\n",
    "    word_set.add(word)"
   ]
  },
  {
   "cell_type": "code",
   "execution_count": 196,
   "id": "ecaff062",
   "metadata": {},
   "outputs": [
    {
     "name": "stdout",
     "output_type": "stream",
     "text": [
      "19.1 μs ± 5.13 μs per loop (mean ± std. dev. of 7 runs, 100,000 loops each)\n"
     ]
    }
   ],
   "source": [
    "%%timeit\n",
    "total = 0\n",
    "for word in hold_out_sample:\n",
    "    if word in word_set:\n",
    "        total += 1"
   ]
  },
  {
   "cell_type": "code",
   "execution_count": 197,
   "id": "886af234",
   "metadata": {},
   "outputs": [],
   "source": [
    "word_tstree = TSTree()\n",
    "for word in insert_sample:\n",
    "    word_tstree.insert(word)"
   ]
  },
  {
   "cell_type": "code",
   "execution_count": 198,
   "id": "bde89c30",
   "metadata": {},
   "outputs": [
    {
     "name": "stdout",
     "output_type": "stream",
     "text": [
      "3.26 ms ± 300 μs per loop (mean ± std. dev. of 7 runs, 100 loops each)\n"
     ]
    }
   ],
   "source": [
    "%%timeit\n",
    "total = 0\n",
    "for word in hold_out_sample:\n",
    "    if word_tstree.search(word):\n",
    "        total += 1"
   ]
  },
  {
   "cell_type": "markdown",
   "id": "fce4cf21",
   "metadata": {},
   "source": [
    "* Insertion: Set is 57x faster than TSTree (43ms vs 2.46s)\n",
    "* Search: Set is 170x faster than TSTree (19μs vs 3.26ms)\n",
    "* But TST provides unique prefix search capabilities"
   ]
  },
  {
   "cell_type": "markdown",
   "id": "b05f9be3",
   "metadata": {},
   "source": [
    "# Comparision with BTree"
   ]
  },
  {
   "cell_type": "code",
   "execution_count": 223,
   "id": "43b60ff3",
   "metadata": {},
   "outputs": [],
   "source": [
    "class BtreeNode:\n",
    "    \n",
    "    def __init__(self, string):\n",
    "        self._string = string\n",
    "        self._lt, self._gt = None, None\n",
    "\n",
    "    def _insert(self, string):\n",
    "        if string == self._string:\n",
    "            return\n",
    "        if string < self._string:\n",
    "            if self._lt is None:\n",
    "                self._lt = BtreeNode(string)\n",
    "            else:\n",
    "                self._lt._insert(string)\n",
    "        elif string > self._string:\n",
    "            if self._gt is None:\n",
    "                self._gt = BtreeNode(string)\n",
    "            else:\n",
    "                self._gt._insert(string)\n",
    "    \n",
    "    def _search(self, string):\n",
    "        if string == self._string:\n",
    "            return True\n",
    "        elif string < self._string:\n",
    "            return self._lt is not None and self._lt._search(string)\n",
    "        else:\n",
    "            return self._gt is not None and self._gt._search(string)\n",
    "    \n",
    "    def _all_strings(self):\n",
    "        strings = [self._string]\n",
    "        if self._lt is not None:\n",
    "            strings.extend(self._lt._all_strings())\n",
    "        if self._gt is not None:\n",
    "            strings.extend(self._gt._all_strings())\n",
    "        return strings\n",
    "\n",
    "    def __len__(self):\n",
    "        length = 1\n",
    "        if self._lt is not None:\n",
    "            length += len(self._lt)\n",
    "        if self._gt is not None:\n",
    "            length += len(self._gt)\n",
    "        return length\n",
    "\n",
    "    def _to_string(self, indent=''):\n",
    "        repr_str = indent + repr(self)\n",
    "        if self._lt is not None:\n",
    "            repr_str += '\\n' + self._lt._to_string(indent + '  ')\n",
    "        if self._gt is not None:\n",
    "            repr_str += '\\n' + self._gt._to_string(indent + '  ')\n",
    "        return repr_str\n",
    "\n",
    "    def __repr__(self):\n",
    "        return self._string"
   ]
  },
  {
   "cell_type": "code",
   "execution_count": 224,
   "id": "b2f3e16e",
   "metadata": {},
   "outputs": [],
   "source": [
    "class Btree:\n",
    "    \n",
    "    def __init__(self):\n",
    "        self._root = None\n",
    "        \n",
    "    def insert(self, string):\n",
    "        if self._root is None:\n",
    "            self._root = BtreeNode(string)\n",
    "        else:\n",
    "            self._root._insert(string)\n",
    "\n",
    "    def search(self, string):\n",
    "        if self._root is None:\n",
    "            return False\n",
    "        else:\n",
    "            return self._root._search(string)\n",
    "        \n",
    "    def all_strings(self):\n",
    "        if self._root is None:\n",
    "            return []\n",
    "        else:\n",
    "            return self._root._all_strings()\n",
    "        \n",
    "    def __len__(self):\n",
    "        if self._root is None:\n",
    "            return 0\n",
    "        else:\n",
    "            return len(self._root)\n",
    "    \n",
    "    def __repr__(self):\n",
    "        if self._root is None:\n",
    "            return 'empty tree'\n",
    "        else:\n",
    "            return self._root._to_string('')"
   ]
  },
  {
   "cell_type": "code",
   "execution_count": 232,
   "id": "061db48a",
   "metadata": {},
   "outputs": [
    {
     "name": "stdout",
     "output_type": "stream",
     "text": [
      "abc\n",
      "  aaq\n",
      "  aqc\n"
     ]
    }
   ],
   "source": [
    "btree = Btree()\n",
    "btree.insert('abc')\n",
    "btree.insert('aqc')\n",
    "btree.insert('aaq')\n",
    "print(btree)"
   ]
  },
  {
   "cell_type": "code",
   "execution_count": 231,
   "id": "6c8c4359",
   "metadata": {},
   "outputs": [
    {
     "name": "stdout",
     "output_type": "stream",
     "text": [
      "root: 'a' (end=False)\n",
      "    mid: 'b' (end=False)\n",
      "        left: 'a' (end=False)\n",
      "            mid: 'q' (end=True)\n",
      "        mid: 'c' (end=True)\n",
      "        right: 'q' (end=False)\n",
      "            mid: 'c' (end=True)\n",
      "\n"
     ]
    }
   ],
   "source": [
    "print(tst)"
   ]
  },
  {
   "cell_type": "markdown",
   "id": "4d6722d7",
   "metadata": {},
   "source": [
    "TSTree stores characters instead of full words."
   ]
  },
  {
   "cell_type": "code",
   "execution_count": 228,
   "id": "802430d1",
   "metadata": {},
   "outputs": [],
   "source": [
    "import time\n",
    "import random\n",
    "\n",
    "# Load and prepare word data\n",
    "with open('/Users/nguyentruc/Desktop/UHasselt/Concept of Data Science/ternary-search-tree/data/corncob_lowercase.txt') as file:\n",
    "    words = [line.strip() for line in file]\n",
    "\n",
    "random.shuffle(words)\n",
    "hold_out_sample = words[-100:]      # test words\n",
    "insert_sample = words[:-100]        # train words\n",
    "\n",
    "# Timing utility\n",
    "def time_function(func, *args):\n",
    "    start = time.perf_counter()\n",
    "    result = func(*args)\n",
    "    end = time.perf_counter()\n",
    "    return result, end - start\n",
    "\n",
    "# Compare Btree and TSTree\n",
    "def compare_btree_tstree(insert_sample, hold_out_sample, prefix=\"car\"):\n",
    "    print(f\"\\n🔍 Inserting {len(insert_sample)} words...\")\n",
    "\n",
    "    btree = Btree()\n",
    "    tstree = TSTree()\n",
    "\n",
    "    # Insert\n",
    "    _, btree_insert_time = time_function(lambda: [btree.insert(w) for w in insert_sample])\n",
    "    _, tstree_insert_time = time_function(lambda: [tstree.insert(w) for w in insert_sample])\n",
    "\n",
    "    print(f\"Btree insert time:   {btree_insert_time:.4f}s\")\n",
    "    print(f\"TSTree insert time:  {tstree_insert_time:.4f}s\")\n",
    "\n",
    "    # Search (using hold-out set)\n",
    "    _, btree_search_time = time_function(lambda: [btree.search(w) for w in hold_out_sample])\n",
    "    _, tstree_search_time = time_function(lambda: [tstree.search(w) for w in hold_out_sample])\n",
    "\n",
    "    print(f\"Btree search time:   {btree_search_time:.4f}s\")\n",
    "    print(f\"TSTree search time:  {tstree_search_time:.4f}s\")\n",
    "\n",
    "    # All strings\n",
    "    _, btree_all_time = time_function(btree.all_strings)\n",
    "    _, tstree_all_time = time_function(tstree.all_strings)\n",
    "\n",
    "    print(f\"Btree all_strings(): {btree_all_time:.4f}s\")\n",
    "    print(f\"TSTree all_strings(): {tstree_all_time:.4f}s\")\n",
    "\n",
    "    # Prefix search on TSTree\n",
    "    _, tstree_prefix_time = time_function(tstree.starts_with, prefix)\n",
    "    print(f\"TSTree prefix search (prefix='{prefix}'): {tstree_prefix_time:.4f}s\")\n",
    "\n",
    "    # Summary\n",
    "    print(\"\\nSummary:\")\n",
    "    print(f\"{'Operation':<20}{'Btree':>12}{'TSTree':>12}\")\n",
    "    print(f\"{'-'*44}\")\n",
    "    print(f\"{'Insert':<20}{btree_insert_time:12.4f}{tstree_insert_time:12.4f}\")\n",
    "    print(f\"{'Search (100)':<20}{btree_search_time:12.4f}{tstree_search_time:12.4f}\")\n",
    "    print(f\"{'All Strings':<20}{btree_all_time:12.4f}{tstree_all_time:12.4f}\")\n",
    "    print(f\"{'Prefix Search':<20}{'N/A':>12}{tstree_prefix_time:12.4f}\")\n"
   ]
  },
  {
   "cell_type": "code",
   "execution_count": null,
   "id": "919683ea",
   "metadata": {},
   "outputs": [
    {
     "name": "stdout",
     "output_type": "stream",
     "text": [
      "\n",
      "🔍 Inserting 58010 words...\n",
      "Btree insert time:   0.9389s\n",
      "TSTree insert time:  1.9207s\n",
      "Btree search time:   0.0009s\n",
      "TSTree search time:  0.0007s\n",
      "Btree all_strings(): 0.0512s\n",
      "TSTree all_strings(): 0.0885s\n",
      "TSTree prefix search (prefix='car'): 0.0003s\n",
      "\n",
      "Summary:\n",
      "Operation                  Btree      TSTree\n",
      "--------------------------------------------\n",
      "Insert                    0.9389      1.9207\n",
      "Search (100)              0.0009      0.0007\n",
      "All Strings               0.0512      0.0885\n",
      "Prefix Search                N/A      0.0003\n"
     ]
    }
   ],
   "source": [
    "compare_btree_tstree(insert_sample, hold_out_sample, prefix=\"car\")"
   ]
  },
  {
   "cell_type": "markdown",
   "id": "fa4e65a5",
   "metadata": {},
   "source": [
    "If working with lots of words (like 50,000 or more), TST is faster for searching and great if you need to find words by prefix. But if you insert words often, Btree is usually quicker."
   ]
  }
 ],
 "metadata": {
  "language_info": {
   "name": "python"
  }
 },
 "nbformat": 4,
 "nbformat_minor": 5
}
