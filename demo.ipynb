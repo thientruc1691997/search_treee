{
 "cells": [
  {
   "cell_type": "markdown",
   "id": "cfff8961",
   "metadata": {},
   "source": [
    "A ternary search tree (TST) is a type of trie-based data structure optimized for storing and retrieving strings efficiently, especially when supporting prefix-based operations like autocomplete.\n",
    "\n",
    "## Supported Operations\n",
    "TSTree provides the following core functionalities:\n",
    "\n",
    "* Insert a string into the tree\n",
    "\n",
    "* Search for exact matches\n",
    "\n",
    "* Return the total number of stored strings\n",
    "\n",
    "* List all stored strings in lexicographic order\n",
    "\n",
    "* Search for all strings that start with a given prefix (autocomplete)"
   ]
  },
  {
   "cell_type": "markdown",
   "id": "8c957b45",
   "metadata": {},
   "source": [
    "## Implementation"
   ]
  },
  {
   "cell_type": "markdown",
   "id": "51e90849",
   "metadata": {},
   "source": [
    "Two classes are implemented:\n",
    "\n",
    "* TSTNode: Internal node structure used by the tree (not exposed to users)\n",
    "\n",
    "* TSTree: Public interface for creating and interacting with the tree"
   ]
  },
  {
   "cell_type": "code",
   "execution_count": 10,
   "id": "67483435",
   "metadata": {},
   "outputs": [],
   "source": [
    "# import TSTree\n",
    "from tstree.tstree import TSTree"
   ]
  },
  {
   "cell_type": "markdown",
   "id": "4361263d",
   "metadata": {},
   "source": [
    "**Example usage**"
   ]
  },
  {
   "cell_type": "markdown",
   "id": "225760ad",
   "metadata": {},
   "source": [
    "Create an empty tree:"
   ]
  },
  {
   "cell_type": "code",
   "execution_count": 11,
   "id": "b7fb8b3c",
   "metadata": {},
   "outputs": [],
   "source": [
    "tst = TSTree()"
   ]
  },
  {
   "cell_type": "markdown",
   "id": "c462f14b",
   "metadata": {},
   "source": [
    "Display tree state:"
   ]
  },
  {
   "cell_type": "code",
   "execution_count": 12,
   "id": "64bde672",
   "metadata": {},
   "outputs": [
    {
     "name": "stdout",
     "output_type": "stream",
     "text": [
      "empty tree\n"
     ]
    }
   ],
   "source": [
    "print(tst)"
   ]
  },
  {
   "cell_type": "markdown",
   "id": "07a9fe7c",
   "metadata": {},
   "source": [
    "Verify that it has no strings stored:"
   ]
  },
  {
   "cell_type": "code",
   "execution_count": 13,
   "id": "efce46bd",
   "metadata": {},
   "outputs": [
    {
     "data": {
      "text/plain": [
       "0"
      ]
     },
     "execution_count": 13,
     "metadata": {},
     "output_type": "execute_result"
    }
   ],
   "source": [
    "len(tst)    # Should be 0"
   ]
  },
  {
   "cell_type": "markdown",
   "id": "e82018b6",
   "metadata": {},
   "source": [
    "Insert the string 'abc':"
   ]
  },
  {
   "cell_type": "code",
   "execution_count": null,
   "id": "957e38fe",
   "metadata": {},
   "outputs": [],
   "source": [
    "tst.insert('abc')"
   ]
  },
  {
   "cell_type": "markdown",
   "id": "6be00043",
   "metadata": {},
   "source": [
    "Verify that the string now encodes a single string:"
   ]
  },
  {
   "cell_type": "code",
   "execution_count": 15,
   "id": "7d95d868",
   "metadata": {},
   "outputs": [
    {
     "data": {
      "text/plain": [
       "1"
      ]
     },
     "execution_count": 15,
     "metadata": {},
     "output_type": "execute_result"
    }
   ],
   "source": [
    "len(tst)  "
   ]
  },
  {
   "cell_type": "markdown",
   "id": "4d8ec054",
   "metadata": {},
   "source": [
    "Insert a second string:"
   ]
  },
  {
   "cell_type": "code",
   "execution_count": 13,
   "id": "2d52346f",
   "metadata": {},
   "outputs": [],
   "source": [
    "tst.insert('aqc')"
   ]
  },
  {
   "cell_type": "markdown",
   "id": "7852c490",
   "metadata": {},
   "source": [
    "Now the string has two elements"
   ]
  },
  {
   "cell_type": "code",
   "execution_count": 14,
   "id": "42124fda",
   "metadata": {},
   "outputs": [
    {
     "name": "stdout",
     "output_type": "stream",
     "text": [
      "'a' (end=False)\n",
      "  'b' (end=False)\n",
      "    'c' (end=True)\n",
      "    'q' (end=False)\n",
      "      'c' (end=True)\n"
     ]
    }
   ],
   "source": [
    "print(tst)"
   ]
  },
  {
   "cell_type": "markdown",
   "id": "5078187f",
   "metadata": {},
   "source": [
    "Add a third string:"
   ]
  },
  {
   "cell_type": "code",
   "execution_count": 15,
   "id": "6a456a0c",
   "metadata": {},
   "outputs": [],
   "source": [
    "tst.insert('aaq')"
   ]
  },
  {
   "cell_type": "code",
   "execution_count": 16,
   "id": "2a2b20d3",
   "metadata": {},
   "outputs": [
    {
     "name": "stdout",
     "output_type": "stream",
     "text": [
      "'a' (end=False)\n",
      "  'b' (end=False)\n",
      "    'a' (end=False)\n",
      "      'q' (end=True)\n",
      "    'c' (end=True)\n",
      "    'q' (end=False)\n",
      "      'c' (end=True)\n"
     ]
    }
   ],
   "source": [
    "print(tst)"
   ]
  },
  {
   "cell_type": "markdown",
   "id": "a71c5ffe",
   "metadata": {},
   "source": [
    "Search for a string that is inserted into the ternary tree:"
   ]
  },
  {
   "cell_type": "code",
   "execution_count": 17,
   "id": "ba9ded26",
   "metadata": {},
   "outputs": [
    {
     "data": {
      "text/plain": [
       "True"
      ]
     },
     "execution_count": 17,
     "metadata": {},
     "output_type": "execute_result"
    }
   ],
   "source": [
    "tst.search('aaq')"
   ]
  },
  {
   "cell_type": "markdown",
   "id": "cf215a62",
   "metadata": {},
   "source": [
    "List all stored words in ternary search tree:"
   ]
  },
  {
   "cell_type": "code",
   "execution_count": 18,
   "id": "2395519e",
   "metadata": {},
   "outputs": [
    {
     "data": {
      "text/plain": [
       "['aaq', 'abc', 'aqc']"
      ]
     },
     "execution_count": 18,
     "metadata": {},
     "output_type": "execute_result"
    }
   ],
   "source": [
    "tst.all_strings()"
   ]
  },
  {
   "cell_type": "markdown",
   "id": "9cdf50c9",
   "metadata": {},
   "source": [
    "Search for a prefix 'aa':"
   ]
  },
  {
   "cell_type": "code",
   "execution_count": 19,
   "id": "b0c2f724",
   "metadata": {},
   "outputs": [
    {
     "data": {
      "text/plain": [
       "['aaq']"
      ]
     },
     "execution_count": 19,
     "metadata": {},
     "output_type": "execute_result"
    }
   ],
   "source": [
    "tst.starts_with('aa')"
   ]
  },
  {
   "cell_type": "markdown",
   "id": "ecbfc062",
   "metadata": {},
   "source": [
    "## Testing"
   ]
  },
  {
   "cell_type": "markdown",
   "id": "b87d0224",
   "metadata": {},
   "source": [
    "The testing routine validates the following:\n",
    "\n",
    "* Number of stored words matches insert_words.txt\n",
    "\n",
    "* All inserted words are found\n",
    "\n",
    "* No false positives from not_insert_words.txt\n",
    "\n",
    "* All words are returned in order"
   ]
  },
  {
   "cell_type": "code",
   "execution_count": 16,
   "id": "4209a37b",
   "metadata": {},
   "outputs": [],
   "source": [
    "# import the test class\n",
    "from tests.tests_tstree import TSTreeTester"
   ]
  },
  {
   "cell_type": "code",
   "execution_count": 17,
   "id": "107db3f1",
   "metadata": {},
   "outputs": [
    {
     "name": "stdout",
     "output_type": "stream",
     "text": [
      "Running TSTree tests...\n",
      "All tests passed.\n"
     ]
    }
   ],
   "source": [
    "tester = TSTreeTester(\n",
    "    insert_path=\"data/insert_words.txt\",\n",
    "    not_insert_path=\"data/not_insert_words.txt\"\n",
    ")\n",
    "tester.run_all_tests()\n"
   ]
  },
  {
   "cell_type": "markdown",
   "id": "9e2a1bfc",
   "metadata": {},
   "source": [
    "## Performance Benchmarking"
   ]
  },
  {
   "cell_type": "markdown",
   "id": "cf0118ce",
   "metadata": {},
   "source": [
    "**Dataset**\n",
    "\n",
    "We used the file corncob_lowercase.txt containing 58,110 lowercase English words sorted alphabetically."
   ]
  },
  {
   "cell_type": "code",
   "execution_count": 18,
   "id": "c0d96c18",
   "metadata": {},
   "outputs": [],
   "source": [
    "import matplotlib.pyplot as plt\n",
    "\n",
    "\n",
    "# Import benchmark functions\n",
    "from benchmark.benchmark import (\n",
    "    load_words,\n",
    "    benchmark_insert,\n",
    "    benchmark_search_fixed_sample,\n",
    "    benchmark_search_random_sample\n",
    ")"
   ]
  },
  {
   "cell_type": "code",
   "execution_count": 19,
   "id": "b3ff95dd",
   "metadata": {},
   "outputs": [],
   "source": [
    "# Load words\n",
    "data_path = os.path.join(\"data\", \"corncob_lowercase.txt\")\n",
    "words = load_words(data_path)\n",
    "\n",
    "# Define sizes\n",
    "sizes = [100, 500, 1_000, 5_000, 10_000, 20_000, 30_000, 40_000, 50_000]\n",
    "\n",
    "# Load words\n",
    "data_path = os.path.join(\"data\", \"corncob_lowercase.txt\")\n",
    "words = load_words(data_path)\n",
    "\n",
    "# Define sizes\n",
    "sizes = [100, 500, 1_000, 5_000, 10_000, 20_000, 30_000, 40_000, 50_000]\n",
    "\n",
    "# Plot result\n",
    "def plot_results(results_dict, title, ylabel):\n",
    "    plt.figure(figsize=(8, 5))\n",
    "    plt.plot(list(results_dict.keys()), list(results_dict.values()), marker='o')\n",
    "    plt.title(title)\n",
    "    plt.xlabel(\"Number of Words\")\n",
    "    plt.ylabel(ylabel)\n",
    "    plt.grid(True)\n",
    "    plt.show()"
   ]
  },
  {
   "cell_type": "markdown",
   "id": "3f8f9d23",
   "metadata": {},
   "source": [
    "First, load the word list file 'corncob_lowercase.txt' and assign its contents to the variable words.\n",
    "\n",
    "Then, use len(words) to check the total number of entries."
   ]
  },
  {
   "cell_type": "code",
   "execution_count": 20,
   "id": "0a76c1e8",
   "metadata": {},
   "outputs": [
    {
     "data": {
      "text/plain": [
       "58110"
      ]
     },
     "execution_count": 20,
     "metadata": {},
     "output_type": "execute_result"
    }
   ],
   "source": [
    "len(words)"
   ]
  },
  {
   "cell_type": "markdown",
   "id": "f4692ce9",
   "metadata": {},
   "source": [
    "The words are sorted in alphabetical order."
   ]
  },
  {
   "cell_type": "code",
   "execution_count": 21,
   "id": "41d1861c",
   "metadata": {},
   "outputs": [
    {
     "data": {
      "text/plain": [
       "['ardvark',\n",
       " 'aardwolf',\n",
       " 'aaron',\n",
       " 'aback',\n",
       " 'abacus',\n",
       " 'abaft',\n",
       " 'abalone',\n",
       " 'abandon',\n",
       " 'abandoned',\n",
       " 'abandonmaent']"
      ]
     },
     "execution_count": 21,
     "metadata": {},
     "output_type": "execute_result"
    }
   ],
   "source": [
    "words[:10]"
   ]
  },
  {
   "cell_type": "markdown",
   "id": "8c372422",
   "metadata": {},
   "source": [
    "**Insertion Benchmark**\n",
    "\n",
    "We measure the insertion time required to build a TSTree across 9 different dataset sizes."
   ]
  },
  {
   "cell_type": "code",
   "execution_count": 27,
   "id": "3115cb9c",
   "metadata": {},
   "outputs": [
    {
     "name": "stdout",
     "output_type": "stream",
     "text": [
      "\n",
      "Insert Performance Benchmark\n",
      "     100 words → Insert avg: 0.30 ms\n",
      "     500 words → Insert avg: 0.50 ms\n",
      "    1000 words → Insert avg: 0.60 ms\n",
      "    5000 words → Insert avg: 0.30 ms\n",
      "   10000 words → Insert avg: 0.60 ms\n",
      "   20000 words → Insert avg: 0.70 ms\n",
      "   30000 words → Insert avg: 0.40 ms\n",
      "   40000 words → Insert avg: 0.60 ms\n",
      "   50000 words → Insert avg: 0.40 ms\n"
     ]
    }
   ],
   "source": [
    "insert_results = benchmark_insert(words, sizes)"
   ]
  },
  {
   "cell_type": "code",
   "execution_count": 28,
   "id": "756a2c49",
   "metadata": {},
   "outputs": [
    {
     "data": {
      "image/png": "[encoded data removed]",
      "text/plain": [
       "<Figure size 800x500 with 1 Axes>"
      ]
     },
     "metadata": {},
     "output_type": "display_data"
    }
   ],
   "source": [
    "plot_results(insert_results, \"Insert Performance\", \"Time (ms)\")"
   ]
  },
  {
   "cell_type": "markdown",
   "id": "d0beb117",
   "metadata": {},
   "source": [
    "**Search Benchmarks**\n",
    "\n",
    "We do the same for **searching words** in TSTree.\n",
    "\n",
    "* **Fixed Sample Search**"
   ]
  },
  {
   "cell_type": "code",
   "execution_count": 29,
   "id": "3dadb82a",
   "metadata": {},
   "outputs": [
    {
     "name": "stdout",
     "output_type": "stream",
     "text": [
      "\n",
      "Search Performance (Fixed Sample)\n",
      "     100 words → Search avg: 0.20 ms\n",
      "     500 words → Search avg: 0.30 ms\n",
      "    1000 words → Search avg: 0.20 ms\n",
      "    5000 words → Search avg: 0.10 ms\n",
      "   10000 words → Search avg: 0.10 ms\n",
      "   20000 words → Search avg: 0.20 ms\n",
      "   30000 words → Search avg: 0.40 ms\n",
      "   40000 words → Search avg: 0.10 ms\n",
      "   50000 words → Search avg: 0.70 ms\n"
     ]
    }
   ],
   "source": [
    "fixed_search_results = benchmark_search_fixed_sample(words, sizes)"
   ]
  },
  {
   "cell_type": "code",
   "execution_count": 30,
   "id": "041193bf",
   "metadata": {},
   "outputs": [
    {
     "data": {
      "image/png": "[encoded data removed]",
      "text/plain": [
       "<Figure size 800x500 with 1 Axes>"
      ]
     },
     "metadata": {},
     "output_type": "display_data"
    }
   ],
   "source": [
    "plot_results(fixed_search_results, \"Search Performance (Fixed Sample)\", \"Time (ms)\")\n"
   ]
  },
  {
   "cell_type": "markdown",
   "id": "805cb348",
   "metadata": {},
   "source": [
    "* **Random Sample Search**"
   ]
  },
  {
   "cell_type": "code",
   "execution_count": 33,
   "id": "6f470205",
   "metadata": {},
   "outputs": [
    {
     "name": "stdout",
     "output_type": "stream",
     "text": [
      "\n",
      "Search Performance (Random from Inserted)\n",
      "     100 words → Search avg (random): 0.20 ms\n",
      "     500 words → Search avg (random): 0.40 ms\n",
      "    1000 words → Search avg (random): 0.50 ms\n",
      "    5000 words → Search avg (random): 0.30 ms\n",
      "   10000 words → Search avg (random): 0.20 ms\n",
      "   20000 words → Search avg (random): 0.40 ms\n",
      "   30000 words → Search avg (random): 0.30 ms\n",
      "   40000 words → Search avg (random): 0.20 ms\n",
      "   50000 words → Search avg (random): 0.40 ms\n"
     ]
    }
   ],
   "source": [
    "random_search_results = benchmark_search_random_sample(words, sizes)"
   ]
  },
  {
   "cell_type": "code",
   "execution_count": 34,
   "id": "6304dd6b",
   "metadata": {},
   "outputs": [
    {
     "data": {
      "image/png": "[encoded data removed]",
      "text/plain": [
       "<Figure size 800x500 with 1 Axes>"
      ]
     },
     "metadata": {},
     "output_type": "display_data"
    }
   ],
   "source": [
    "plot_results(random_search_results, \"Search Performance (Random Sample)\", \"Time (ms)\")"
   ]
  },
  {
   "cell_type": "markdown",
   "id": "0a8bc7c9",
   "metadata": {},
   "source": [
    "**Comparision with Python set**"
   ]
  },
  {
   "cell_type": "code",
   "execution_count": 36,
   "id": "33af599d",
   "metadata": {},
   "outputs": [],
   "source": [
    "from benchmark.benchmark import compare_with_set"
   ]
  },
  {
   "cell_type": "code",
   "execution_count": 38,
   "id": "9c7a63fe",
   "metadata": {},
   "outputs": [
    {
     "name": "stdout",
     "output_type": "stream",
     "text": [
      "\n",
      "----------------------------------------------\n",
      "\n",
      "Comparing TSTree and Python set for 100-word \n",
      "Insert time (set):     18.9476 ms\n",
      "Insert time (TSTree):  1570.7971 ms\n",
      "Search time (set):     0.0000 ms\n",
      "Search time (TSTree):  5.9860 ms\n"
     ]
    }
   ],
   "source": [
    "compare_with_set(words)"
   ]
  },
  {
   "cell_type": "markdown",
   "id": "fce4cf21",
   "metadata": {},
   "source": [
    "* set is significantly faster for insert and exact-match search.\n",
    "\n",
    "* set does not support ordered or prefix search.\n",
    "\n",
    "* TSTree supports prefix-based search efficiently."
   ]
  },
  {
   "cell_type": "markdown",
   "id": "b05f9be3",
   "metadata": {},
   "source": [
    "**Comparision with BTree**"
   ]
  },
  {
   "cell_type": "code",
   "execution_count": 39,
   "id": "fb6b9fc5",
   "metadata": {},
   "outputs": [],
   "source": [
    "# Now import TSTree\n",
    "from btree.btree import Btree\n",
    "from tstree.tstree import TSTree"
   ]
  },
  {
   "cell_type": "markdown",
   "id": "97c7d629",
   "metadata": {},
   "source": [
    "* **Structural Difference**"
   ]
  },
  {
   "cell_type": "code",
   "execution_count": 2,
   "id": "061db48a",
   "metadata": {},
   "outputs": [
    {
     "name": "stdout",
     "output_type": "stream",
     "text": [
      "abc\n",
      "  aaq\n",
      "  aqc\n"
     ]
    }
   ],
   "source": [
    "btree = Btree()\n",
    "btree.insert('abc')\n",
    "btree.insert('aqc')\n",
    "btree.insert('aaq')\n",
    "print(btree)"
   ]
  },
  {
   "cell_type": "code",
   "execution_count": 3,
   "id": "6c8c4359",
   "metadata": {},
   "outputs": [
    {
     "name": "stdout",
     "output_type": "stream",
     "text": [
      "'a' (end=False)\n",
      "  'b' (end=False)\n",
      "    'a' (end=False)\n",
      "      'q' (end=True)\n",
      "    'c' (end=True)\n",
      "    'q' (end=False)\n",
      "      'c' (end=True)\n"
     ]
    }
   ],
   "source": [
    "tst = TSTree()\n",
    "tst.insert('abc')\n",
    "tst.insert('aqc')\n",
    "tst.insert('aaq')\n",
    "print(tst)"
   ]
  },
  {
   "cell_type": "markdown",
   "id": "4d6722d7",
   "metadata": {},
   "source": [
    "* **Performance Comparison**"
   ]
  },
  {
   "cell_type": "code",
   "execution_count": 40,
   "id": "bcef47a4",
   "metadata": {},
   "outputs": [
    {
     "name": "stdout",
     "output_type": "stream",
     "text": [
      "\n",
      "----------------------------------------------\n",
      "\n",
      "Comparing TSTree and BTree\n",
      "\n",
      "Inserting 1000 words...\n",
      "Btree insert time:   0.0062s\n",
      "TSTree insert time:  0.0181s\n",
      "Btree search time:   0.0007s\n",
      "TSTree search time:  0.0011s\n",
      "TSTree prefix search (prefix='ca'): 0.0002s\n",
      "\n",
      "Summary:\n",
      "Operation                  Btree      TSTree\n",
      "--------------------------------------------\n",
      "Insert                    0.0062      0.0181\n",
      "Search                    0.0007      0.0011\n",
      "Prefix Search                N/A      0.0002\n"
     ]
    }
   ],
   "source": [
    "from benchmark.benchmark import compare_btree_tstree\n",
    "import random\n",
    "\n",
    "random.shuffle(words)\n",
    "insert_sample = words[:1000]                \n",
    "hold_out_sample = words[1000:1100] \n",
    "compare_btree_tstree(insert_sample, hold_out_sample)"
   ]
  },
  {
   "cell_type": "markdown",
   "id": "fa4e65a5",
   "metadata": {},
   "source": [
    "| Operation     | BTree                       | TSTree                          |\n",
    "| ------------- | --------------------------- | ------------------------------- |\n",
    "| Insert        | Fast (full-word comparison) | Slower (character-by-character) |\n",
    "| Search        | Fast for exact match        | Slightly slower                 |\n",
    "| All Strings   | Costly traversal            | Efficient traversal             |\n",
    "| Prefix Search | Not supported               | Efficient and direct            |\n",
    "\n",
    "## Summary\n",
    "TSTree offers rich functionality with lexicographic and prefix-based searches.\n",
    "\n",
    "It is slower than BTree and set for raw operations but outperforms them in flexibility and prefix capabilities.\n",
    "\n",
    "Suitable for autocomplete, dictionary lookup, and incremental text matching in large datasets."
   ]
  }
 ],
 "metadata": {
  "kernelspec": {
   "display_name": "base",
   "language": "python",
   "name": "python3"
  },
  "language_info": {
   "codemirror_mode": {
    "name": "ipython",
    "version": 3
   },
   "file_extension": ".py",
   "mimetype": "text/x-python",
   "name": "python",
   "nbconvert_exporter": "python",
   "pygments_lexer": "ipython3",
   "version": "3.12.7"
  }
 },
 "nbformat": 4,
 "nbformat_minor": 5
}
