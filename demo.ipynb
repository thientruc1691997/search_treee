{
 "cells": [
  {
   "cell_type": "markdown",
   "id": "cfff8961",
   "metadata": {},
   "source": [
    "A ternary search tree (TST) is a type of trie-based data structure optimized for storing and retrieving strings efficiently, especially when supporting prefix-based operations like autocomplete.\n",
    "\n",
    "It supports the following operations:\n",
    "\n",
    "* insert a string into the TST;\n",
    "* search for a string in the TST;\n",
    "* return the number of stored strings;\n",
    "* print all strings stored in the TST in lexicographic order;\n",
    "* find all strings that start with a given prefix (autocomplete feature)."
   ]
  },
  {
   "cell_type": "markdown",
   "id": "8c957b45",
   "metadata": {},
   "source": [
    "# Implementation"
   ]
  },
  {
   "cell_type": "markdown",
   "id": "51e90849",
   "metadata": {},
   "source": [
    "We implement two classes, one to represent a node of a ternary search tree, the second to represent the tree.  Only the latter will be used by the user of the data structure, the `TSTNode` class is only for intermal usage."
   ]
  },
  {
   "cell_type": "code",
   "execution_count": 80,
   "id": "67483435",
   "metadata": {},
   "outputs": [],
   "source": [
    "import os\n",
    "import sys\n",
    "\n",
    "# Add the project root to sys.path\n",
    "project_root = os.path.abspath(os.path.join(os.path.dirname(\"test.ipynb\"), \"..\"))\n",
    "if project_root not in sys.path:\n",
    "    sys.path.insert(0, project_root)\n",
    "\n",
    "# Now import TSTree\n",
    "from tstree.tstree import TSTree"
   ]
  },
  {
   "cell_type": "markdown",
   "id": "4361263d",
   "metadata": {},
   "source": [
    "# Example usage"
   ]
  },
  {
   "cell_type": "markdown",
   "id": "225760ad",
   "metadata": {},
   "source": [
    "Create an empty Ternary Search Tree"
   ]
  },
  {
   "cell_type": "code",
   "execution_count": 8,
   "id": "b7fb8b3c",
   "metadata": {},
   "outputs": [],
   "source": [
    "tst = TSTree()"
   ]
  },
  {
   "cell_type": "markdown",
   "id": "c462f14b",
   "metadata": {},
   "source": [
    "Display it in íts current state"
   ]
  },
  {
   "cell_type": "code",
   "execution_count": 9,
   "id": "64bde672",
   "metadata": {},
   "outputs": [
    {
     "name": "stdout",
     "output_type": "stream",
     "text": [
      "empty tree\n"
     ]
    }
   ],
   "source": [
    "print(tst)"
   ]
  },
  {
   "cell_type": "markdown",
   "id": "07a9fe7c",
   "metadata": {},
   "source": [
    "Verify that it has no strings stored"
   ]
  },
  {
   "cell_type": "code",
   "execution_count": 10,
   "id": "efce46bd",
   "metadata": {},
   "outputs": [
    {
     "data": {
      "text/plain": [
       "0"
      ]
     },
     "execution_count": 10,
     "metadata": {},
     "output_type": "execute_result"
    }
   ],
   "source": [
    "len(tst)"
   ]
  },
  {
   "cell_type": "markdown",
   "id": "e82018b6",
   "metadata": {},
   "source": [
    "Insert the string 'abc'"
   ]
  },
  {
   "cell_type": "code",
   "execution_count": 11,
   "id": "957e38fe",
   "metadata": {},
   "outputs": [],
   "source": [
    "tst.insert('abc')"
   ]
  },
  {
   "cell_type": "markdown",
   "id": "6be00043",
   "metadata": {},
   "source": [
    "Verify that the string now encodes a single string"
   ]
  },
  {
   "cell_type": "code",
   "execution_count": 12,
   "id": "7d95d868",
   "metadata": {},
   "outputs": [
    {
     "data": {
      "text/plain": [
       "1"
      ]
     },
     "execution_count": 12,
     "metadata": {},
     "output_type": "execute_result"
    }
   ],
   "source": [
    "len(tst)  "
   ]
  },
  {
   "cell_type": "markdown",
   "id": "4d8ec054",
   "metadata": {},
   "source": [
    "Insert a second string"
   ]
  },
  {
   "cell_type": "code",
   "execution_count": 13,
   "id": "2d52346f",
   "metadata": {},
   "outputs": [],
   "source": [
    "tst.insert('aqc')"
   ]
  },
  {
   "cell_type": "markdown",
   "id": "7852c490",
   "metadata": {},
   "source": [
    "Now the string has two elements"
   ]
  },
  {
   "cell_type": "code",
   "execution_count": 14,
   "id": "42124fda",
   "metadata": {},
   "outputs": [
    {
     "name": "stdout",
     "output_type": "stream",
     "text": [
      "'a' (end=False)\n",
      "  'b' (end=False)\n",
      "    'c' (end=True)\n",
      "    'q' (end=False)\n",
      "      'c' (end=True)\n"
     ]
    }
   ],
   "source": [
    "print(tst)"
   ]
  },
  {
   "cell_type": "markdown",
   "id": "5078187f",
   "metadata": {},
   "source": [
    "Add a third string"
   ]
  },
  {
   "cell_type": "code",
   "execution_count": 15,
   "id": "6a456a0c",
   "metadata": {},
   "outputs": [],
   "source": [
    "tst.insert('aaq')"
   ]
  },
  {
   "cell_type": "code",
   "execution_count": 16,
   "id": "2a2b20d3",
   "metadata": {},
   "outputs": [
    {
     "name": "stdout",
     "output_type": "stream",
     "text": [
      "'a' (end=False)\n",
      "  'b' (end=False)\n",
      "    'a' (end=False)\n",
      "      'q' (end=True)\n",
      "    'c' (end=True)\n",
      "    'q' (end=False)\n",
      "      'c' (end=True)\n"
     ]
    }
   ],
   "source": [
    "print(tst)"
   ]
  },
  {
   "cell_type": "markdown",
   "id": "a71c5ffe",
   "metadata": {},
   "source": [
    "Search for a string that is inserted into the ternary tree"
   ]
  },
  {
   "cell_type": "code",
   "execution_count": 17,
   "id": "ba9ded26",
   "metadata": {},
   "outputs": [
    {
     "data": {
      "text/plain": [
       "True"
      ]
     },
     "execution_count": 17,
     "metadata": {},
     "output_type": "execute_result"
    }
   ],
   "source": [
    "tst.search('aaq')"
   ]
  },
  {
   "cell_type": "markdown",
   "id": "cf215a62",
   "metadata": {},
   "source": [
    "List all strings in ternary search tree"
   ]
  },
  {
   "cell_type": "code",
   "execution_count": 18,
   "id": "2395519e",
   "metadata": {},
   "outputs": [
    {
     "data": {
      "text/plain": [
       "['aaq', 'abc', 'aqc']"
      ]
     },
     "execution_count": 18,
     "metadata": {},
     "output_type": "execute_result"
    }
   ],
   "source": [
    "tst.all_strings()"
   ]
  },
  {
   "cell_type": "markdown",
   "id": "9cdf50c9",
   "metadata": {},
   "source": [
    "Search for a prefix 'aa'"
   ]
  },
  {
   "cell_type": "code",
   "execution_count": 19,
   "id": "b0c2f724",
   "metadata": {},
   "outputs": [
    {
     "data": {
      "text/plain": [
       "['aaq']"
      ]
     },
     "execution_count": 19,
     "metadata": {},
     "output_type": "execute_result"
    }
   ],
   "source": [
    "tst.starts_with('aa')"
   ]
  },
  {
   "cell_type": "markdown",
   "id": "ecbfc062",
   "metadata": {},
   "source": [
    "# Testing"
   ]
  },
  {
   "cell_type": "markdown",
   "id": "2aaca640",
   "metadata": {},
   "source": [
    "Create a new TSTree and insert some new words"
   ]
  },
  {
   "cell_type": "markdown",
   "id": "b87d0224",
   "metadata": {},
   "source": [
    "This testing includes: \n",
    "* Verify the length of the data structure after insert file \"insert_words.txt\"\n",
    "* Verify that all words in the file \"insert_words.txt\" can be found\n",
    "* Check that words in the file 'not_insert_words.txt' can not be found in the tree\n",
    "* Check that all strings are returned"
   ]
  },
  {
   "cell_type": "code",
   "execution_count": 20,
   "id": "4209a37b",
   "metadata": {},
   "outputs": [],
   "source": [
    "import sys\n",
    "import os\n",
    "\n",
    "# Add project root directory to sys.path\n",
    "project_root = os.path.abspath(os.path.join(os.path.dirname(\"demo.ipynb\"), \"..\"))\n",
    "if project_root not in sys.path:\n",
    "    sys.path.insert(0, project_root)\n",
    "\n",
    "# import the test class\n",
    "from tests.tests_tstree import TSTreeTester\n"
   ]
  },
  {
   "cell_type": "code",
   "execution_count": 21,
   "id": "107db3f1",
   "metadata": {},
   "outputs": [
    {
     "name": "stdout",
     "output_type": "stream",
     "text": [
      "Running TSTree tests...\n",
      "All tests passed.\n"
     ]
    }
   ],
   "source": [
    "tester = TSTreeTester(\n",
    "    insert_path=\"data/insert_words.txt\",\n",
    "    not_insert_path=\"data/not_insert_words.txt\"\n",
    ")\n",
    "tester.run_all_tests()\n"
   ]
  },
  {
   "cell_type": "markdown",
   "id": "9e2a1bfc",
   "metadata": {},
   "source": [
    "# Performance"
   ]
  },
  {
   "cell_type": "markdown",
   "id": "cf0118ce",
   "metadata": {},
   "source": [
    "To assess the performance with large dataset, we use file 'corncob_lowercase.txt' (58110 words, all lower case)"
   ]
  },
  {
   "cell_type": "code",
   "execution_count": 12,
   "id": "c0d96c18",
   "metadata": {},
   "outputs": [],
   "source": [
    "import sys\n",
    "import os\n",
    "import matplotlib.pyplot as plt\n",
    "\n",
    "\n",
    "# Add project root to sys.path (only needed if not already done)\n",
    "project_root = os.path.abspath(\"..\")\n",
    "if project_root not in sys.path:\n",
    "    sys.path.insert(0, project_root)\n",
    "\n",
    "# Import benchmark functions\n",
    "from benchmark.benchmark import (\n",
    "    load_words,\n",
    "    benchmark_insert,\n",
    "    benchmark_search_fixed_sample,\n",
    "    benchmark_search_random_sample\n",
    ")\n"
   ]
  },
  {
   "cell_type": "code",
   "execution_count": 14,
   "id": "b3ff95dd",
   "metadata": {},
   "outputs": [],
   "source": [
    "# Load words\n",
    "data_path = os.path.join(\"data\", \"corncob_lowercase.txt\")\n",
    "words = load_words(data_path)\n",
    "\n",
    "# Define sizes\n",
    "sizes = [100, 500, 1_000, 5_000, 10_000, 20_000, 30_000, 40_000, 50_000]\n",
    "\n",
    "# Load words\n",
    "data_path = os.path.join(\"data\", \"corncob_lowercase.txt\")\n",
    "words = load_words(data_path)\n",
    "\n",
    "# Define sizes\n",
    "sizes = [100, 500, 1_000, 5_000, 10_000, 20_000, 30_000, 40_000, 50_000]\n",
    "\n",
    "# Plot result\n",
    "def plot_results(results_dict, title, ylabel):\n",
    "    plt.figure(figsize=(8, 5))\n",
    "    plt.plot(list(results_dict.keys()), list(results_dict.values()), marker='o')\n",
    "    plt.title(title)\n",
    "    plt.xlabel(\"Number of Words\")\n",
    "    plt.ylabel(ylabel)\n",
    "    plt.grid(True)\n",
    "    plt.show()"
   ]
  },
  {
   "cell_type": "markdown",
   "id": "3f8f9d23",
   "metadata": {},
   "source": [
    "To assess the performance with large dataset, we use file 'corncob_lowercase.txt' (58110 words, all lower case)"
   ]
  },
  {
   "cell_type": "code",
   "execution_count": 7,
   "id": "0a76c1e8",
   "metadata": {},
   "outputs": [
    {
     "data": {
      "text/plain": [
       "58110"
      ]
     },
     "execution_count": 7,
     "metadata": {},
     "output_type": "execute_result"
    }
   ],
   "source": [
    "len(words)"
   ]
  },
  {
   "cell_type": "markdown",
   "id": "f4692ce9",
   "metadata": {},
   "source": [
    "The words are alphabetically ordered"
   ]
  },
  {
   "cell_type": "code",
   "execution_count": 8,
   "id": "41d1861c",
   "metadata": {},
   "outputs": [
    {
     "data": {
      "text/plain": [
       "['ardvark',\n",
       " 'aardwolf',\n",
       " 'aaron',\n",
       " 'aback',\n",
       " 'abacus',\n",
       " 'abaft',\n",
       " 'abalone',\n",
       " 'abandon',\n",
       " 'abandoned',\n",
       " 'abandonmaent']"
      ]
     },
     "execution_count": 8,
     "metadata": {},
     "output_type": "execute_result"
    }
   ],
   "source": [
    "words[:10]"
   ]
  },
  {
   "cell_type": "markdown",
   "id": "8c372422",
   "metadata": {},
   "source": [
    "Now we will time how long it takes to **insert words** into a TSTree of 9 sizes."
   ]
  },
  {
   "cell_type": "code",
   "execution_count": 55,
   "id": "3115cb9c",
   "metadata": {},
   "outputs": [
    {
     "name": "stdout",
     "output_type": "stream",
     "text": [
      "\n",
      "🔁 Insert Performance Benchmark\n",
      "     100 words → Insert avg: 0.08 ms\n",
      "     500 words → Insert avg: 0.11 ms\n",
      "    1000 words → Insert avg: 0.09 ms\n",
      "    5000 words → Insert avg: 0.12 ms\n",
      "   10000 words → Insert avg: 0.10 ms\n",
      "   20000 words → Insert avg: 0.12 ms\n",
      "   30000 words → Insert avg: 0.09 ms\n",
      "   40000 words → Insert avg: 0.10 ms\n",
      "   50000 words → Insert avg: 0.11 ms\n"
     ]
    }
   ],
   "source": [
    "insert_results = benchmark_insert(words, sizes)"
   ]
  },
  {
   "cell_type": "code",
   "execution_count": 56,
   "id": "756a2c49",
   "metadata": {},
   "outputs": [
    {
     "data": {
      "image/png": "[encoded data removed]",
      "text/plain": [
       "<Figure size 800x500 with 1 Axes>"
      ]
     },
     "metadata": {},
     "output_type": "display_data"
    }
   ],
   "source": [
    "plot_results(insert_results, \"Insert Performance\", \"Time (ms)\")"
   ]
  },
  {
   "cell_type": "markdown",
   "id": "d0beb117",
   "metadata": {},
   "source": [
    "We do the same for **searching words** in TSTree."
   ]
  },
  {
   "cell_type": "code",
   "execution_count": 57,
   "id": "3dadb82a",
   "metadata": {},
   "outputs": [
    {
     "name": "stdout",
     "output_type": "stream",
     "text": [
      "\n",
      "🔎 Search Performance (Fixed Sample)\n",
      "     100 words → Search avg: 0.04 ms\n",
      "     500 words → Search avg: 0.05 ms\n",
      "    1000 words → Search avg: 0.14 ms\n",
      "    5000 words → Search avg: 0.07 ms\n",
      "   10000 words → Search avg: 0.10 ms\n",
      "   20000 words → Search avg: 0.11 ms\n",
      "   30000 words → Search avg: 0.09 ms\n",
      "   40000 words → Search avg: 0.09 ms\n",
      "   50000 words → Search avg: 0.12 ms\n"
     ]
    }
   ],
   "source": [
    "fixed_search_results = benchmark_search_fixed_sample(words, sizes)"
   ]
  },
  {
   "cell_type": "code",
   "execution_count": 58,
   "id": "041193bf",
   "metadata": {},
   "outputs": [
    {
     "data": {
      "image/png": "[encoded data removed]",
      "text/plain": [
       "<Figure size 800x500 with 1 Axes>"
      ]
     },
     "metadata": {},
     "output_type": "display_data"
    }
   ],
   "source": [
    "plot_results(fixed_search_results, \"Search Performance (Fixed Sample)\", \"Time (ms)\")\n"
   ]
  },
  {
   "cell_type": "code",
   "execution_count": 59,
   "id": "6f470205",
   "metadata": {},
   "outputs": [
    {
     "name": "stdout",
     "output_type": "stream",
     "text": [
      "\n",
      "🔁 Search Performance (Random from Inserted)\n",
      "     100 words → Search avg (random): 0.07 ms\n",
      "     500 words → Search avg (random): 0.09 ms\n",
      "    1000 words → Search avg (random): 0.17 ms\n",
      "    5000 words → Search avg (random): 0.51 ms\n",
      "   10000 words → Search avg (random): 0.13 ms\n",
      "   20000 words → Search avg (random): 0.11 ms\n",
      "   30000 words → Search avg (random): 0.28 ms\n",
      "   40000 words → Search avg (random): 0.12 ms\n",
      "   50000 words → Search avg (random): 0.12 ms\n"
     ]
    }
   ],
   "source": [
    "random_search_results = benchmark_search_random_sample(words, sizes)"
   ]
  },
  {
   "cell_type": "code",
   "execution_count": 60,
   "id": "6304dd6b",
   "metadata": {},
   "outputs": [
    {
     "data": {
      "image/png": "[encoded data removed]",
      "text/plain": [
       "<Figure size 800x500 with 1 Axes>"
      ]
     },
     "metadata": {},
     "output_type": "display_data"
    }
   ],
   "source": [
    "plot_results(random_search_results, \"Search Performance (Random Sample)\", \"Time (ms)\")"
   ]
  },
  {
   "cell_type": "markdown",
   "id": "0a8bc7c9",
   "metadata": {},
   "source": [
    "# Comparision with SET"
   ]
  },
  {
   "cell_type": "code",
   "execution_count": 2,
   "id": "33af599d",
   "metadata": {},
   "outputs": [],
   "source": [
    "import sys\n",
    "import os\n",
    "\n",
    "project_root = os.path.abspath(\"..\")\n",
    "if project_root not in sys.path:\n",
    "    sys.path.insert(0, project_root)\n",
    "\n",
    "from benchmark.benchmark import compare_with_set\n"
   ]
  },
  {
   "cell_type": "code",
   "execution_count": 7,
   "id": "9c7a63fe",
   "metadata": {},
   "outputs": [
    {
     "name": "stdout",
     "output_type": "stream",
     "text": [
      "\n",
      "----------------------------------------------\n",
      "\n",
      "Comparing TSTree and Python set for 100-word search\n",
      "Insert time (set):     32.2150 ms\n",
      "Insert time (TSTree):  969.4870 ms\n",
      "Search time (set):     0.0270 ms\n",
      "Search time (TSTree):  0.5770 ms\n"
     ]
    }
   ],
   "source": [
    "compare_with_set(words)"
   ]
  },
  {
   "cell_type": "markdown",
   "id": "fce4cf21",
   "metadata": {},
   "source": [
    "* Set is faster than TSTree in both `Insert` and `Search` \n",
    "* But TST provides unique prefix search capabilities"
   ]
  },
  {
   "cell_type": "markdown",
   "id": "b05f9be3",
   "metadata": {},
   "source": [
    "# Comparision with BTree"
   ]
  },
  {
   "cell_type": "code",
   "execution_count": null,
   "id": "fb6b9fc5",
   "metadata": {},
   "outputs": [],
   "source": [
    "import os\n",
    "import sys\n",
    "\n",
    "# Add the project root to sys.path\n",
    "project_root = os.path.abspath(os.path.join(os.path.dirname(\"test.ipynb\"), \"..\"))\n",
    "if project_root not in sys.path:\n",
    "    sys.path.insert(0, project_root)\n",
    "\n",
    "# Now import TSTree\n",
    "from btree.btree import Btree\n",
    "from tstree.tstree import TSTree"
   ]
  },
  {
   "cell_type": "code",
   "execution_count": 2,
   "id": "061db48a",
   "metadata": {},
   "outputs": [
    {
     "name": "stdout",
     "output_type": "stream",
     "text": [
      "abc\n",
      "  aaq\n",
      "  aqc\n"
     ]
    }
   ],
   "source": [
    "btree = Btree()\n",
    "btree.insert('abc')\n",
    "btree.insert('aqc')\n",
    "btree.insert('aaq')\n",
    "print(btree)"
   ]
  },
  {
   "cell_type": "code",
   "execution_count": 3,
   "id": "6c8c4359",
   "metadata": {},
   "outputs": [
    {
     "name": "stdout",
     "output_type": "stream",
     "text": [
      "'a' (end=False)\n",
      "  'b' (end=False)\n",
      "    'a' (end=False)\n",
      "      'q' (end=True)\n",
      "    'c' (end=True)\n",
      "    'q' (end=False)\n",
      "      'c' (end=True)\n"
     ]
    }
   ],
   "source": [
    "tst = TSTree()\n",
    "tst.insert('abc')\n",
    "tst.insert('aqc')\n",
    "tst.insert('aaq')\n",
    "print(tst)"
   ]
  },
  {
   "cell_type": "markdown",
   "id": "4d6722d7",
   "metadata": {},
   "source": [
    "TSTree stores characters instead of full words."
   ]
  },
  {
   "cell_type": "code",
   "execution_count": 18,
   "id": "bcef47a4",
   "metadata": {},
   "outputs": [
    {
     "name": "stdout",
     "output_type": "stream",
     "text": [
      "\n",
      "🔍 Inserting 1000 words...\n",
      "Btree insert time:   0.0152s\n",
      "TSTree insert time:  0.1070s\n",
      "Btree search time:   0.0010s\n",
      "TSTree search time:  0.0016s\n",
      "Btree all_strings(): 13.2114s\n",
      "TSTree all_strings(): 0.0050s\n",
      "TSTree prefix search (prefix='car'): 0.0001s\n",
      "\n",
      "Summary:\n",
      "Operation                  Btree      TSTree\n",
      "--------------------------------------------\n",
      "Insert                    0.0152      0.1070\n",
      "Search                    0.0010      0.0016\n",
      "All Strings              13.2114      0.0050\n",
      "Prefix Search                N/A      0.0001\n"
     ]
    }
   ],
   "source": [
    "from benchmark.benchmark import compare_btree_tstree\n",
    "import random\n",
    "\n",
    "random.shuffle(words)\n",
    "insert_sample = words[:1000]                \n",
    "hold_out_sample = words[1000:1100] \n",
    "compare_btree_tstree(insert_sample, hold_out_sample)"
   ]
  },
  {
   "cell_type": "markdown",
   "id": "fa4e65a5",
   "metadata": {},
   "source": [
    "Insert:\n",
    "* BTree is extremely fast for insertions because it doesn’t branch based on individual characters.\n",
    "* TSTree processes each character of the word during insertion, making it slower.\n",
    "\n",
    "Search:\n",
    "* Both trees are fast and suitable for direct word lookups.\n",
    "* BTree is slightly faster due to its simpler structure.\n",
    "\n",
    "All Strings:\n",
    "* This is a weakness of BTree: to retrieve all stored words, it must traverse the entire tree, which is very time-consuming.\n",
    "* TSTree is character-based, making it efficient to traverse and retrieve all words in dictionary order.\n",
    "\n",
    "Prefix Search:\n",
    "* BTree does not support prefix search unless the entire tree is traversed.\n",
    "* TSTree supports prefix search very efficiently by following character paths."
   ]
  }
 ],
 "metadata": {
  "kernelspec": {
   "display_name": "Python 3",
   "language": "python",
   "name": "python3"
  },
  "language_info": {
   "codemirror_mode": {
    "name": "ipython",
    "version": 3
   },
   "file_extension": ".py",
   "mimetype": "text/x-python",
   "name": "python",
   "nbconvert_exporter": "python",
   "pygments_lexer": "ipython3",
   "version": "3.10.4"
  }
 },
 "nbformat": 4,
 "nbformat_minor": 5
}
